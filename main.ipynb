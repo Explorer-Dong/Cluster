{
 "cells": [
  {
   "cell_type": "code",
   "execution_count": 31,
   "metadata": {},
   "outputs": [],
   "source": [
    "import pandas as pd\n",
    "import numpy as np\n",
    "import matplotlib.pyplot as plt\n",
    "from sklearn.cluster import KMeans\n",
    "from sklearn.preprocessing import LabelEncoder\n",
    "from sklearn.metrics import confusion_matrix, jaccard_score, fowlkes_mallows_score, rand_score"
   ]
  },
  {
   "cell_type": "markdown",
   "metadata": {},
   "source": [
    "## 一、数据预处理"
   ]
  },
  {
   "cell_type": "markdown",
   "metadata": {},
   "source": [
    "### 1.1 加载数据"
   ]
  },
  {
   "cell_type": "code",
   "execution_count": 32,
   "metadata": {},
   "outputs": [],
   "source": [
    "data = pd.read_csv('./dataset/kddcup.data_10_percent_corrected', sep=',')\n",
    "\n",
    "columns = [\n",
    "    'duration', 'protocol_type', 'service', 'flag', 'src_bytes',\n",
    "    'dst_bytes', 'land', 'wrong_fragment', 'urgent', 'hot',\n",
    "    'num_failed_logins', 'logged_in', 'num_compromised', 'root_shell',\n",
    "    'su_attempted', 'num_root', 'num_file_creations', 'num_shells',\n",
    "    'num_access_files', 'num_outbound_cmds', 'is_host_login',\n",
    "    'is_guest_login', 'count', 'srv_count', 'serror_rate',\n",
    "    'srv_serror_rate', 'rerror_rate', 'srv_rerror_rate', 'same_srv_rate',\n",
    "    'diff_srv_rate', 'srv_diff_host_rate', 'dst_host_count',\n",
    "    'dst_host_srv_count', 'dst_host_same_srv_rate', 'dst_host_diff_srv_rate',\n",
    "    'dst_host_same_src_port_rate', 'dst_host_srv_diff_host_rate',\n",
    "    'dst_host_serror_rate', 'dst_host_srv_serror_rate', 'dst_host_rerror_rate',\n",
    "    'dst_host_srv_rerror_rate', 'outcome'\n",
    "]\n",
    "discrete_columns = [\n",
    "    'protocol_type', 'service', 'flag', 'land', 'logged_in', 'is_host_login', 'is_guest_login'\n",
    "]\n",
    "data.columns = columns"
   ]
  },
  {
   "cell_type": "markdown",
   "metadata": {},
   "source": [
    "### 1.2 离散数据编码"
   ]
  },
  {
   "cell_type": "code",
   "execution_count": 33,
   "metadata": {},
   "outputs": [],
   "source": [
    "LE = LabelEncoder()\n",
    "\n",
    "X = data.drop('outcome', axis=1)\n",
    "for column in discrete_columns:\n",
    "    X[column] = LE.fit_transform(X[column]).astype(np.float64)"
   ]
  },
  {
   "cell_type": "markdown",
   "metadata": {},
   "source": [
    "## 二、模型自定义实现"
   ]
  },
  {
   "cell_type": "code",
   "execution_count": 34,
   "metadata": {},
   "outputs": [],
   "source": [
    "class MyKMeans:\n",
    "    def __init__(self, n_clusters=5, n_init=10) -> None:\n",
    "        self.n_clusters = n_clusters\n",
    "        self.n_init = n_init\n",
    "        self.centroids = None\n",
    "        self.labels_ = None\n",
    "    \n",
    "    def fit(self, X: pd.DataFrame) -> None:\n",
    "        '''\n",
    "        训练KMeans模型\n",
    "        '''\n",
    "        \n",
    "        data = X\n",
    "\n",
    "        self.centroids = self._init_centroids(data)\n",
    "        \n",
    "        for _ in range(self.n_init):\n",
    "            labels = self._assign_clusters(data)\n",
    "            new_centroids = self._update_centroids(data, labels)\n",
    "            \n",
    "            if new_centroids.equals(self.centroids):\n",
    "                break\n",
    "            \n",
    "            self.centroids = new_centroids\n",
    "\n",
    "        self.labels_ = labels\n",
    "    \n",
    "\n",
    "    def _init_centroids(self, data: pd.DataFrame) -> pd.DataFrame:\n",
    "        '''\n",
    "        随机初始化聚类中心\n",
    "        '''\n",
    "\n",
    "        centroids_indices = data.sample(n=self.n_clusters, replace=False).index\n",
    "        centroids = data.loc[centroids_indices]\n",
    "\n",
    "        return centroids\n",
    "    \n",
    "    \n",
    "    def _assign_clusters(self, data: pd.DataFrame) -> pd.Series:\n",
    "        '''\n",
    "        分配每个样本到最近的聚类中心\n",
    "        '''\n",
    "\n",
    "        distances = ((data.values - self.centroids.values[:, np.newaxis])**2).sum(axis=2)**0.5\n",
    "        labels = pd.Series(np.argmin(distances, axis=0))\n",
    "\n",
    "        return labels\n",
    "    \n",
    "    \n",
    "    def _update_centroids(self, data: pd.DataFrame, labels: pd.Series) -> pd.DataFrame:\n",
    "        '''\n",
    "        更新聚类中心为每个簇的平均值\n",
    "        '''\n",
    "\n",
    "        new_centroids = pd.DataFrame([data[labels == i].mean(axis=0) for i in range(self.n_clusters)])\n",
    "\n",
    "        return new_centroids"
   ]
  },
  {
   "cell_type": "markdown",
   "metadata": {},
   "source": [
    "## 三、模型预测与评估"
   ]
  },
  {
   "cell_type": "markdown",
   "metadata": {},
   "source": [
    "### 3.1 模型预测"
   ]
  },
  {
   "cell_type": "code",
   "execution_count": 35,
   "metadata": {},
   "outputs": [],
   "source": [
    "my_model = MyKMeans(n_clusters=5, n_init=10)\n",
    "my_model.fit(X)\n",
    "my_result = my_model.labels_"
   ]
  },
  {
   "cell_type": "markdown",
   "metadata": {},
   "source": [
    "### 3.2 模型评估"
   ]
  },
  {
   "cell_type": "code",
   "execution_count": 36,
   "metadata": {},
   "outputs": [],
   "source": [
    "label_normal = ['normal.']\n",
    "label_probe = ['ipsweep.', 'mscan.', 'nmap.', 'portsweep.', 'saint.', 'satan.']\n",
    "label_dos = [\n",
    "    'apache2.', 'back.', 'land.', 'neptune.', 'mailbomb.', 'pod.', 'processtable.',\n",
    "    'smurf.', 'teardrop.', 'udpstorm.'\n",
    "]\n",
    "label_u2r = [\n",
    "    'buffer_overflow.', 'httptunnel.','loadmodule.', 'perl.',\n",
    "    'ps.', 'rootkit.', 'sqlattack.', 'xterm.'\n",
    "]\n",
    "label_r2l = [\n",
    "    'ftp_write.', 'guess_passwd.', 'imap.', 'multihop.', 'named.', 'phf.',\n",
    "    'sendmail.', 'snmpgetattack.', 'snmpguess.', 'spy.', 'warezclient.', 'warezmaster.',\n",
    "    'worm.', 'xlock.', 'xsnoop.'\n",
    "]\n",
    "\n",
    "y = data['outcome'].copy()\n",
    "y[y.isin(label_normal)] = 0\n",
    "y[y.isin(label_probe)] = 1\n",
    "y[y.isin(label_dos)] = 2\n",
    "y[y.isin(label_u2r)] = 3\n",
    "y[y.isin(label_r2l)] = 4\n",
    "y = y.astype(np.int32)"
   ]
  },
  {
   "cell_type": "code",
   "execution_count": 37,
   "metadata": {},
   "outputs": [
    {
     "name": "stdout",
     "output_type": "stream",
     "text": [
      "Jaccard Coefficient (JC): 0.004174064697494646\n",
      "Fowlkes-Mallows Index (FM): 0.8165375132038113\n",
      "Rand Index (RI): 0.6667335104690643\n"
     ]
    }
   ],
   "source": [
    "jc = jaccard_score(y, my_result, average='micro')\n",
    "fm = fowlkes_mallows_score(y, my_result)\n",
    "ri = rand_score(y, my_result)\n",
    "\n",
    "print(f\"Jaccard Coefficient (JC): {jc}\")\n",
    "print(f\"Fowlkes-Mallows Index (FM): {fm}\")\n",
    "print(f\"Rand Index (RI): {ri}\")"
   ]
  },
  {
   "cell_type": "markdown",
   "metadata": {},
   "source": [
    "## 四、与标准包的对比"
   ]
  },
  {
   "cell_type": "code",
   "execution_count": 38,
   "metadata": {},
   "outputs": [
    {
     "data": {
      "text/html": [
       "<style>#sk-container-id-2 {color: black;}#sk-container-id-2 pre{padding: 0;}#sk-container-id-2 div.sk-toggleable {background-color: white;}#sk-container-id-2 label.sk-toggleable__label {cursor: pointer;display: block;width: 100%;margin-bottom: 0;padding: 0.3em;box-sizing: border-box;text-align: center;}#sk-container-id-2 label.sk-toggleable__label-arrow:before {content: \"▸\";float: left;margin-right: 0.25em;color: #696969;}#sk-container-id-2 label.sk-toggleable__label-arrow:hover:before {color: black;}#sk-container-id-2 div.sk-estimator:hover label.sk-toggleable__label-arrow:before {color: black;}#sk-container-id-2 div.sk-toggleable__content {max-height: 0;max-width: 0;overflow: hidden;text-align: left;background-color: #f0f8ff;}#sk-container-id-2 div.sk-toggleable__content pre {margin: 0.2em;color: black;border-radius: 0.25em;background-color: #f0f8ff;}#sk-container-id-2 input.sk-toggleable__control:checked~div.sk-toggleable__content {max-height: 200px;max-width: 100%;overflow: auto;}#sk-container-id-2 input.sk-toggleable__control:checked~label.sk-toggleable__label-arrow:before {content: \"▾\";}#sk-container-id-2 div.sk-estimator input.sk-toggleable__control:checked~label.sk-toggleable__label {background-color: #d4ebff;}#sk-container-id-2 div.sk-label input.sk-toggleable__control:checked~label.sk-toggleable__label {background-color: #d4ebff;}#sk-container-id-2 input.sk-hidden--visually {border: 0;clip: rect(1px 1px 1px 1px);clip: rect(1px, 1px, 1px, 1px);height: 1px;margin: -1px;overflow: hidden;padding: 0;position: absolute;width: 1px;}#sk-container-id-2 div.sk-estimator {font-family: monospace;background-color: #f0f8ff;border: 1px dotted black;border-radius: 0.25em;box-sizing: border-box;margin-bottom: 0.5em;}#sk-container-id-2 div.sk-estimator:hover {background-color: #d4ebff;}#sk-container-id-2 div.sk-parallel-item::after {content: \"\";width: 100%;border-bottom: 1px solid gray;flex-grow: 1;}#sk-container-id-2 div.sk-label:hover label.sk-toggleable__label {background-color: #d4ebff;}#sk-container-id-2 div.sk-serial::before {content: \"\";position: absolute;border-left: 1px solid gray;box-sizing: border-box;top: 0;bottom: 0;left: 50%;z-index: 0;}#sk-container-id-2 div.sk-serial {display: flex;flex-direction: column;align-items: center;background-color: white;padding-right: 0.2em;padding-left: 0.2em;position: relative;}#sk-container-id-2 div.sk-item {position: relative;z-index: 1;}#sk-container-id-2 div.sk-parallel {display: flex;align-items: stretch;justify-content: center;background-color: white;position: relative;}#sk-container-id-2 div.sk-item::before, #sk-container-id-2 div.sk-parallel-item::before {content: \"\";position: absolute;border-left: 1px solid gray;box-sizing: border-box;top: 0;bottom: 0;left: 50%;z-index: -1;}#sk-container-id-2 div.sk-parallel-item {display: flex;flex-direction: column;z-index: 1;position: relative;background-color: white;}#sk-container-id-2 div.sk-parallel-item:first-child::after {align-self: flex-end;width: 50%;}#sk-container-id-2 div.sk-parallel-item:last-child::after {align-self: flex-start;width: 50%;}#sk-container-id-2 div.sk-parallel-item:only-child::after {width: 0;}#sk-container-id-2 div.sk-dashed-wrapped {border: 1px dashed gray;margin: 0 0.4em 0.5em 0.4em;box-sizing: border-box;padding-bottom: 0.4em;background-color: white;}#sk-container-id-2 div.sk-label label {font-family: monospace;font-weight: bold;display: inline-block;line-height: 1.2em;}#sk-container-id-2 div.sk-label-container {text-align: center;}#sk-container-id-2 div.sk-container {/* jupyter's `normalize.less` sets `[hidden] { display: none; }` but bootstrap.min.css set `[hidden] { display: none !important; }` so we also need the `!important` here to be able to override the default hidden behavior on the sphinx rendered scikit-learn.org. See: https://github.com/scikit-learn/scikit-learn/issues/21755 */display: inline-block !important;position: relative;}#sk-container-id-2 div.sk-text-repr-fallback {display: none;}</style><div id=\"sk-container-id-2\" class=\"sk-top-container\"><div class=\"sk-text-repr-fallback\"><pre>KMeans(n_clusters=5, n_init=10)</pre><b>In a Jupyter environment, please rerun this cell to show the HTML representation or trust the notebook. <br />On GitHub, the HTML representation is unable to render, please try loading this page with nbviewer.org.</b></div><div class=\"sk-container\" hidden><div class=\"sk-item\"><div class=\"sk-estimator sk-toggleable\"><input class=\"sk-toggleable__control sk-hidden--visually\" id=\"sk-estimator-id-2\" type=\"checkbox\" checked><label for=\"sk-estimator-id-2\" class=\"sk-toggleable__label sk-toggleable__label-arrow\">KMeans</label><div class=\"sk-toggleable__content\"><pre>KMeans(n_clusters=5, n_init=10)</pre></div></div></div></div></div>"
      ],
      "text/plain": [
       "KMeans(n_clusters=5, n_init=10)"
      ]
     },
     "execution_count": 38,
     "metadata": {},
     "output_type": "execute_result"
    }
   ],
   "source": [
    "std_model = KMeans(n_clusters=5, n_init=10)\n",
    "std_model.fit(X)"
   ]
  },
  {
   "cell_type": "code",
   "execution_count": 39,
   "metadata": {},
   "outputs": [
    {
     "name": "stdout",
     "output_type": "stream",
     "text": [
      "Jaccard Coefficient (JC): 0.10917026645951018\n",
      "Fowlkes-Mallows Index (FM): 0.8166832927515518\n",
      "Rand Index (RI): 0.6671158396250134\n"
     ]
    }
   ],
   "source": [
    "std_result = std_model.labels_\n",
    "\n",
    "jc = jaccard_score(y, std_result, average='micro')\n",
    "fm = fowlkes_mallows_score(y, std_result)\n",
    "ri = rand_score(y, std_result)\n",
    "\n",
    "print(f\"Jaccard Coefficient (JC): {jc}\")\n",
    "print(f\"Fowlkes-Mallows Index (FM): {fm}\")\n",
    "print(f\"Rand Index (RI): {ri}\")"
   ]
  }
 ],
 "metadata": {
  "kernelspec": {
   "display_name": "Python 3",
   "language": "python",
   "name": "python3"
  },
  "language_info": {
   "codemirror_mode": {
    "name": "ipython",
    "version": 3
   },
   "file_extension": ".py",
   "mimetype": "text/x-python",
   "name": "python",
   "nbconvert_exporter": "python",
   "pygments_lexer": "ipython3",
   "version": "3.11.1"
  }
 },
 "nbformat": 4,
 "nbformat_minor": 2
}
